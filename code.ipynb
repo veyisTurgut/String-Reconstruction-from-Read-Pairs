{
 "cells": [
  {
   "cell_type": "markdown",
   "metadata": {},
   "source": [
    "# ADALET VETİS TURGUT "
   ]
  },
  {
   "cell_type": "markdown",
   "metadata": {},
   "source": [
    "## QUESTION 1.A"
   ]
  },
  {
   "cell_type": "markdown",
   "metadata": {},
   "source": [
    "### **Load** the read pairs from the data file (each read pair is in a separate line and each pair has been separated by a “|” sign), and remove the lines corresponding to the metadata (the first two lines)."
   ]
  },
  {
   "cell_type": "code",
   "execution_count": 1,
   "metadata": {},
   "outputs": [
    {
     "name": "stdout",
     "output_type": "stream",
     "text": [
      "200\n",
      "AAACTTTACAATCATTAGGGTCGCCAGTGGAGAATCTATAGAATCTTTTC|GGGGCGAAGCATACTTACCTTGATCAACGCAGTGATTATTCATCTGAAGA\n",
      "GAGTAAGCGAGGCCAGGCCATACGGTTTCGGAGCCGCAGAATAGCCTTTA|CGAACAAGGGACCCTGCTCACTCGATTGGGAATCTAATGCGGTCTGCCAT\n",
      "...\n"
     ]
    }
   ],
   "source": [
    "data = \"\".join(open('data.txt')).split()\n",
    "pairs = data[3:data.index(\"Output\")] # read until we see output line\n",
    "d = int(data[2])\n",
    "print(d, pairs[0], pairs[1], \"...\", sep=\"\\n\")"
   ]
  },
  {
   "cell_type": "markdown",
   "metadata": {},
   "source": [
    "### **construct** the paired de Bruijn graph from this data. "
   ]
  },
  {
   "cell_type": "code",
   "execution_count": 2,
   "metadata": {},
   "outputs": [],
   "source": [
    "import numpy as np\n",
    "def deBruijn(read_pairs):\n",
    "    # first construct a dictionary where each [(vertex1) ---(edge)--> (vertex2)] is a key-value \n",
    "    # pair in this dictionary where vertex1 is key and vertex2 is a value corresponding to that key\n",
    "    # !!! This dictioary serves as de Bruijn graph in my implementation.\n",
    "    edges = {}\n",
    "    for pair in read_pairs:\n",
    "        # first split each line into suffixes and prefixes by removing first and last elements\n",
    "        split_point = pair.index('|')\n",
    "        first_part = (pair[:split_point-1], pair[split_point+1:-1])\n",
    "        second_part =  (pair[1:split_point], pair[split_point+2:])\n",
    "        # add this to dictionary\n",
    "        if first_part not in edges.keys(): \n",
    "            edges[first_part] = []\n",
    "        edges[first_part].append(second_part)\n",
    "    # after constructing the dictionary, construct adjacency matrix and column-row names of this matrix\n",
    "    adj_matrix_column_names = list(edges.keys()) ## add sources\n",
    "    for key in edges.keys(): ## add sinks\n",
    "        adj_matrix_column_names.append(*edges[key])\n",
    "    adj_matrix_column_names = list(set(adj_matrix_column_names))## remove duplicates\n",
    "    adj_matrix_column_names.sort() ## sort lexicographically\n",
    "    adj_matrix = [[0]*len(adj_matrix_column_names) for i in range(len(adj_matrix_column_names))]\n",
    "    for i,key in enumerate(adj_matrix_column_names):\n",
    "        try: ## to deal with key not found error\n",
    "            for val in edges[key]:\n",
    "                adj_matrix[i][adj_matrix_column_names.index(val)] = 1\n",
    "        except KeyError:\n",
    "            continue\n",
    "    return edges, np.array(adj_matrix), adj_matrix_column_names"
   ]
  },
  {
   "cell_type": "code",
   "execution_count": 3,
   "metadata": {},
   "outputs": [],
   "source": [
    "edges, adj_matrix, adj_matrix_column_names = deBruijn(pairs) ## !! remember! edges is de Bruijn graph"
   ]
  },
  {
   "cell_type": "markdown",
   "metadata": {},
   "source": [
    "### **Print** the upper left 20 x 20 part of the de Bruijn adjacency matrix you constructed."
   ]
  },
  {
   "cell_type": "code",
   "execution_count": 4,
   "metadata": {},
   "outputs": [],
   "source": [
    "def print_matrix(matrix):\n",
    "    for row in matrix[:20]:\n",
    "        for el in row[:20]:\n",
    "            # print 1's in red so that you can distinguish easily :)\n",
    "            print('\\x1b[0;31;47m' + str(el) + '\\x1b[0m', end= \"  \") if el else print(el,end=\"  \")\n",
    "        print()"
   ]
  },
  {
   "cell_type": "code",
   "execution_count": 5,
   "metadata": {},
   "outputs": [
    {
     "name": "stdout",
     "output_type": "stream",
     "text": [
      "0  \u001b[0;31;47m1\u001b[0m  0  0  0  0  0  0  0  0  0  0  0  0  0  0  0  0  0  0  \n",
      "0  0  \u001b[0;31;47m1\u001b[0m  0  0  0  0  0  0  0  0  0  0  0  0  0  0  0  0  0  \n",
      "0  0  0  0  0  0  \u001b[0;31;47m1\u001b[0m  0  0  0  0  0  0  0  0  0  0  0  0  0  \n",
      "0  0  0  0  0  0  0  0  0  0  0  0  0  0  0  0  0  \u001b[0;31;47m1\u001b[0m  0  0  \n",
      "0  0  0  0  0  0  0  0  0  0  0  0  0  0  0  0  0  0  0  \u001b[0;31;47m1\u001b[0m  \n",
      "0  0  0  0  0  0  0  0  0  0  0  0  0  0  0  0  0  0  0  0  \n",
      "0  0  0  0  0  0  0  0  0  0  0  0  0  0  0  0  0  0  0  0  \n",
      "0  0  0  0  0  0  0  0  0  0  0  0  0  0  0  0  0  0  0  0  \n",
      "0  0  0  0  0  0  0  0  0  0  0  0  0  0  0  0  0  0  0  0  \n",
      "0  0  0  0  0  0  0  0  0  0  0  0  0  0  0  0  0  0  0  0  \n",
      "0  0  0  0  0  0  0  0  0  0  0  0  0  0  0  0  0  0  0  0  \n",
      "0  0  0  0  0  0  0  0  0  0  0  0  0  0  0  0  0  0  0  0  \n",
      "0  0  0  0  0  0  0  0  0  0  0  0  0  0  0  0  0  0  0  0  \n",
      "0  0  0  0  0  0  0  0  0  0  0  0  0  0  0  0  0  0  0  0  \n",
      "0  0  0  0  0  0  0  0  0  0  0  0  0  0  0  0  0  0  0  0  \n",
      "0  0  0  0  0  0  0  0  0  0  0  0  0  0  0  0  0  0  0  0  \n",
      "0  0  0  0  0  0  0  0  0  0  0  0  0  0  0  0  0  0  0  0  \n",
      "0  0  0  0  0  0  0  0  0  0  0  0  0  0  0  0  0  0  0  0  \n",
      "0  0  0  0  0  0  0  0  0  0  0  0  0  0  0  0  0  0  0  0  \n",
      "0  0  0  0  0  0  0  0  0  0  0  0  0  0  0  0  0  0  0  0  \n"
     ]
    }
   ],
   "source": [
    "print_matrix(adj_matrix)"
   ]
  },
  {
   "cell_type": "markdown",
   "metadata": {},
   "source": [
    "## QUESTION 1.B"
   ]
  },
  {
   "cell_type": "markdown",
   "metadata": {},
   "source": [
    "### **Find** the unique Eulerian path in the de Bruijn graph "
   ]
  },
  {
   "cell_type": "code",
   "execution_count": 6,
   "metadata": {},
   "outputs": [],
   "source": [
    "# I want to convert eulerian path problem to eulerian cycle problem by adding an edge from sink(tail_pair) to source(head_pair)\n",
    "tail_pair_index = np.where(adj_matrix.sum(axis=1) == 0)[0][0]\n",
    "head_pair_index = np.where(adj_matrix.sum(axis=0) == 0)[0][0]\n",
    "adj_matrix[tail_pair_index][head_pair_index] = 1\n",
    "edges[adj_matrix_column_names[tail_pair_index]] = [adj_matrix_column_names[head_pair_index]]"
   ]
  },
  {
   "cell_type": "code",
   "execution_count": 7,
   "metadata": {},
   "outputs": [],
   "source": [
    "def findEulearianCycle():\n",
    "    path = [adj_matrix_column_names[0]] # start from a random vertex, I chose first of the lexicographical order.\n",
    "    cycle = [] # hold the cycle\n",
    "    while path: # while not empty, equivalent to whether we came the vertex above (since we remove edges going out of a vertex in each step)\n",
    "        vertex = path[-1]\n",
    "        if vertex in edges and edges[vertex]: # if there is an edge going out from this vertex\n",
    "            next_v = edges[vertex].pop()\n",
    "            path.append(next_v)\n",
    "        else:\n",
    "            cycle.append(path.pop())\n",
    "    return cycle[::-1][:-1] # reverse the cycle and remove the last element since it appears on both head and tail of the cycle\n",
    "eulearian_cycle = findEulearianCycle()"
   ]
  },
  {
   "cell_type": "code",
   "execution_count": 8,
   "metadata": {},
   "outputs": [
    {
     "name": "stdout",
     "output_type": "stream",
     "text": [
      "('GAAAGGTACAAATACTGGCGACCTCGCTGTTCGACACTTCATCACTGCT', 'CACGCATACGCTGCACAAGGGACCCTGCTCACTCGATTGGGAATCTAAT') -> ... -> ('CTCCCATAGTAGGCCCTAGAGATGCCGATCATTCCGCAGGTGTGCCTAA', 'TGCAGAGATTGGCGGCGTAGACTGACAGTCGCGATCAATCTGCGTGTTA')\n"
     ]
    }
   ],
   "source": [
    "# now rotate the list such that head_pair becomes first element\n",
    "head_index = eulearian_cycle.index(adj_matrix_column_names[head_pair_index])\n",
    "eulearian_cycle = eulearian_cycle[head_index:] + eulearian_cycle[:head_index]\n",
    "print(eulearian_cycle[0], \"-> ... ->\", eulearian_cycle[-1])"
   ]
  },
  {
   "cell_type": "markdown",
   "metadata": {},
   "source": [
    "### **reconstruct** the associated genome sequence accordingly"
   ]
  },
  {
   "cell_type": "code",
   "execution_count": 9,
   "metadata": {},
   "outputs": [],
   "source": [
    "reconstructed_genome = eulearian_cycle[0][0] # start with first\n",
    "for paired_k_mer in eulearian_cycle[1: d + 2]: # append last element of the prefixes of first d+1 k-mer pairs\n",
    "    reconstructed_genome += paired_k_mer[0][-1]\n",
    "reconstructed_genome += eulearian_cycle[0][1] # append last element of the suffixes of remaining k-mer pairs\n",
    "for paired_k_mer in eulearian_cycle[1:]:\n",
    "    reconstructed_genome += paired_k_mer[1][-1]"
   ]
  },
  {
   "cell_type": "markdown",
   "metadata": {},
   "source": [
    "### **Print** the length of the final reconstructed genome."
   ]
  },
  {
   "cell_type": "code",
   "execution_count": 10,
   "metadata": {},
   "outputs": [
    {
     "name": "stdout",
     "output_type": "stream",
     "text": [
      "6000\n"
     ]
    }
   ],
   "source": [
    "print(len(reconstructed_genome))"
   ]
  },
  {
   "cell_type": "markdown",
   "metadata": {},
   "source": [
    "## QUESTION 1.C"
   ]
  },
  {
   "cell_type": "markdown",
   "metadata": {},
   "source": [
    "- **Print** the first 200 and last 200 characters of your reconstructed genome strinG"
   ]
  },
  {
   "cell_type": "code",
   "execution_count": 11,
   "metadata": {},
   "outputs": [
    {
     "name": "stdout",
     "output_type": "stream",
     "text": [
      "First 200: GAAAGGTACAAATACTGGCGACCTCGCTGTTCGACACTTCATCACTGCTCCGGGGCGCTCAGGAGGGACGGTTCCCTGTACCATTGGAAGTCAATAGTCTAAGGTACAAAGAGAAGACCCGACCCGACAGAGGGGGTTCTGCGCCGGGTTTCGAGCTTGTAACCCCCCAGAGAATTAGATCCACCGTCTGTGTGGACAAA\n",
      "Last 200: GGGCAAATTATCAGCGTACAATTCCCAGATATATAGGCGGCGAGAAAAGCTTCAAAAGACTTAATTTACTAGCCTCCTACAAACTCTAGATGAGGATTGGCTCTTGATGCTAGCGTTTTCATTTTCCATTACAAGACATTAGGCTGATAATTGCAGAGATTGGCGGCGTAGACTGACAGTCGCGATCAATCTGCGTGTTA\n"
     ]
    }
   ],
   "source": [
    "print('First 200:',reconstructed_genome[:200])\n",
    "print('Last 200:',reconstructed_genome[-200:])\n"
   ]
  },
  {
   "cell_type": "markdown",
   "metadata": {},
   "source": [
    "## QUESTION 1.D"
   ]
  },
  {
   "cell_type": "markdown",
   "metadata": {},
   "source": [
    "* **Instead of having N paired reads, imagine we only had the same reads as 2N independent reads, i.e. without knowing which ones are paired. How would we proceed in this case for genome reconstruction? What would be harder/easier in obtaining a final genome sequence? Please discuss.**\n"
   ]
  },
  {
   "cell_type": "markdown",
   "metadata": {},
   "source": [
    "* **ANSWER**\n",
    "* If we do not have pairs, run time of the algorithm would increase greatly which means it will be harder. \n",
    "* Suppose these two cases for paired and non-paired reads:\n",
    "    * N Paired reads: 1 -> 4 -> 7 -> 10, 2 -> 5 -> 8, 3 -> 6 -> 9. First read is paired with fourth, fourth read is paired with seventh, second read is paired with fifth, etc. In this scenario we only need to find edges from first to second to third (this complexity is determined by pair distance paramter d).\n",
    "    * 2N non-piared reads: 1, 2, 3, 4, 5, ...10. We need to find all of the edges. \n",
    "    * Complexity coefficient increased from d to N/(k-1) where N is the length of the string and k is the k-mer length.\n"
   ]
  }
 ],
 "metadata": {
  "interpreter": {
   "hash": "31f2aee4e71d21fbe5cf8b01ff0e069b9275f58929596ceb00d14d90e3e16cd6"
  },
  "kernelspec": {
   "display_name": "Python 3.8.9 64-bit",
   "language": "python",
   "name": "python3"
  },
  "language_info": {
   "codemirror_mode": {
    "name": "ipython",
    "version": 3
   },
   "file_extension": ".py",
   "mimetype": "text/x-python",
   "name": "python",
   "nbconvert_exporter": "python",
   "pygments_lexer": "ipython3",
   "version": "3.8.9"
  },
  "orig_nbformat": 4
 },
 "nbformat": 4,
 "nbformat_minor": 2
}
